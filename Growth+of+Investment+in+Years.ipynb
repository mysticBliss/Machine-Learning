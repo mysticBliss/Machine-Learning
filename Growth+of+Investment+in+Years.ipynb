{
 "cells": [
  {
   "cell_type": "code",
   "execution_count": null,
   "metadata": {
    "collapsed": true
   },
   "outputs": [],
   "source": [
    "import pandas as pd\n",
    "\n",
    "# import Libraries\n",
    "from IPython.display import clear_output\n",
    "from io import StringIO\n",
    "import requests\n",
    "import matplotlib.pyplot as plt\n",
    "import numpy as np"
   ]
  },
  {
   "cell_type": "code",
   "execution_count": 4,
   "metadata": {
    "collapsed": false
   },
   "outputs": [],
   "source": [
    "url=pd.read_csv(\"https://github.com/saqibmujtaba/Machine-Learning/blob/DataFiles/investment-growth-forcast.csv\")\n",
    "s=requests.get(url).text\n",
    "\n",
    "dataset=pd.read_csv(StringIO(s))"
   ]
  },
  {
   "cell_type": "code",
   "execution_count": 39,
   "metadata": {
    "collapsed": true
   },
   "outputs": [],
   "source": [
    "%matplotlib inline"
   ]
  },
  {
   "cell_type": "code",
   "execution_count": 5,
   "metadata": {
    "collapsed": false
   },
   "outputs": [
    {
     "data": {
      "text/plain": [
       "['Deposit']"
      ]
     },
     "execution_count": 5,
     "metadata": {},
     "output_type": "execute_result"
    }
   ],
   "source": [
    "# Gives columns that need to be encoded\n",
    "def columnsToEncode(df):\n",
    "    return list(df.select_dtypes(include=['category','object']))\n",
    "\n",
    "columnsToEncode(dataset)"
   ]
  },
  {
   "cell_type": "code",
   "execution_count": 6,
   "metadata": {
    "collapsed": false
   },
   "outputs": [
    {
     "name": "stdout",
     "output_type": "stream",
     "text": [
      "<class 'pandas.core.frame.DataFrame'>\n",
      "RangeIndex: 19 entries, 0 to 18\n",
      "Data columns (total 5 columns):\n",
      "Deposit       19 non-null object\n",
      "Months        19 non-null int64\n",
      "PFT_Perc      19 non-null float64\n",
      "PFT           19 non-null float64\n",
      "Investment    19 non-null int64\n",
      "dtypes: float64(2), int64(2), object(1)\n",
      "memory usage: 832.0+ bytes\n"
     ]
    }
   ],
   "source": [
    "dataset.info()"
   ]
  },
  {
   "cell_type": "code",
   "execution_count": 7,
   "metadata": {
    "collapsed": false
   },
   "outputs": [
    {
     "name": "stdout",
     "output_type": "stream",
     "text": [
      "(19, 5)\n"
     ]
    }
   ],
   "source": [
    "# Size of data\n",
    "\n",
    "print(dataset.shape)"
   ]
  },
  {
   "cell_type": "code",
   "execution_count": 8,
   "metadata": {
    "collapsed": false
   },
   "outputs": [
    {
     "data": {
      "text/html": [
       "<div>\n",
       "<table border=\"1\" class=\"dataframe\">\n",
       "  <thead>\n",
       "    <tr style=\"text-align: right;\">\n",
       "      <th></th>\n",
       "      <th>Months</th>\n",
       "      <th>PFT_Perc</th>\n",
       "      <th>PFT</th>\n",
       "      <th>Investment</th>\n",
       "    </tr>\n",
       "  </thead>\n",
       "  <tbody>\n",
       "    <tr>\n",
       "      <th>Months</th>\n",
       "      <td>1.000</td>\n",
       "      <td>-0.482</td>\n",
       "      <td>0.645</td>\n",
       "      <td>0.928</td>\n",
       "    </tr>\n",
       "    <tr>\n",
       "      <th>PFT_Perc</th>\n",
       "      <td>-0.482</td>\n",
       "      <td>1.000</td>\n",
       "      <td>0.068</td>\n",
       "      <td>-0.370</td>\n",
       "    </tr>\n",
       "    <tr>\n",
       "      <th>PFT</th>\n",
       "      <td>0.645</td>\n",
       "      <td>0.068</td>\n",
       "      <td>1.000</td>\n",
       "      <td>0.796</td>\n",
       "    </tr>\n",
       "    <tr>\n",
       "      <th>Investment</th>\n",
       "      <td>0.928</td>\n",
       "      <td>-0.370</td>\n",
       "      <td>0.796</td>\n",
       "      <td>1.000</td>\n",
       "    </tr>\n",
       "  </tbody>\n",
       "</table>\n",
       "</div>"
      ],
      "text/plain": [
       "            Months  PFT_Perc    PFT  Investment\n",
       "Months       1.000    -0.482  0.645       0.928\n",
       "PFT_Perc    -0.482     1.000  0.068      -0.370\n",
       "PFT          0.645     0.068  1.000       0.796\n",
       "Investment   0.928    -0.370  0.796       1.000"
      ]
     },
     "execution_count": 8,
     "metadata": {},
     "output_type": "execute_result"
    }
   ],
   "source": [
    "# Co-relation between different varaibles.\n",
    "\n",
    "pd.set_option('display.width',100)\n",
    "pd.set_option('precision',3)\n",
    "corr = dataset.corr(method='pearson', min_periods=1)\n",
    "\n",
    "dataset.corr(method='pearson', min_periods=1)"
   ]
  },
  {
   "cell_type": "code",
   "execution_count": 9,
   "metadata": {
    "collapsed": true
   },
   "outputs": [],
   "source": [
    "import seaborn as sns"
   ]
  },
  {
   "cell_type": "code",
   "execution_count": 10,
   "metadata": {
    "collapsed": false
   },
   "outputs": [
    {
     "data": {
      "image/png": "[encoded data removed]",
      "text/plain": [
       "<matplotlib.figure.Figure at 0x13811eb8>"
      ]
     },
     "metadata": {},
     "output_type": "display_data"
    }
   ],
   "source": [
    "# Visualize co-relation by creating Co-relational Matrix\n",
    "\n",
    "sns.heatmap(corr, cmap='jet',square=True, linewidths=.5,annot=True)\n",
    "\n",
    "plt.show()"
   ]
  },
  {
   "cell_type": "code",
   "execution_count": 40,
   "metadata": {
    "collapsed": false
   },
   "outputs": [
    {
     "data": {
      "text/plain": [
       "<seaborn.axisgrid.PairGrid at 0x1756bb70>"
      ]
     },
     "execution_count": 40,
     "metadata": {},
     "output_type": "execute_result"
    },
    {
     "data": {
      "image/png": "[encoded data removed]",
      "text/plain": [
       "<matplotlib.figure.Figure at 0x1756bf28>"
      ]
     },
     "metadata": {},
     "output_type": "display_data"
    }
   ],
   "source": [
    "# Seaborn Pairplot\n",
    "sns.pairplot(data=dataset)"
   ]
  },
  {
   "cell_type": "code",
   "execution_count": 12,
   "metadata": {
    "collapsed": true
   },
   "outputs": [],
   "source": [
    "predictors=[ 'Months', 'PFT_Perc','PFT']\n",
    "X=dataset[predictors]\n",
    "y=dataset['Investment']"
   ]
  },
  {
   "cell_type": "code",
   "execution_count": 13,
   "metadata": {
    "collapsed": false
   },
   "outputs": [
    {
     "name": "stdout",
     "output_type": "stream",
     "text": [
      "    Months  PFT_Perc      PFT\n",
      "9       10     0.037  11045.4\n",
      "4        5     0.054  10756.0\n",
      "10      11     0.040  33470.0\n",
      "18      19     0.040  28070.0\n",
      "3        4     0.030   6000.0\n"
     ]
    }
   ],
   "source": [
    "print X.sample(5)"
   ]
  },
  {
   "cell_type": "code",
   "execution_count": 14,
   "metadata": {
    "collapsed": true
   },
   "outputs": [],
   "source": [
    "# Multi Linear Regression"
   ]
  },
  {
   "cell_type": "code",
   "execution_count": 15,
   "metadata": {
    "collapsed": true
   },
   "outputs": [],
   "source": [
    "import statsmodels.api as sm"
   ]
  },
  {
   "cell_type": "code",
   "execution_count": 16,
   "metadata": {
    "collapsed": true
   },
   "outputs": [],
   "source": [
    "X = sm.add_constant(X)"
   ]
  },
  {
   "cell_type": "code",
   "execution_count": 17,
   "metadata": {
    "collapsed": false
   },
   "outputs": [
    {
     "data": {
      "text/html": [
       "<div>\n",
       "<table border=\"1\" class=\"dataframe\">\n",
       "  <thead>\n",
       "    <tr style=\"text-align: right;\">\n",
       "      <th></th>\n",
       "      <th>const</th>\n",
       "      <th>Months</th>\n",
       "      <th>PFT_Perc</th>\n",
       "      <th>PFT</th>\n",
       "    </tr>\n",
       "  </thead>\n",
       "  <tbody>\n",
       "    <tr>\n",
       "      <th>0</th>\n",
       "      <td>1</td>\n",
       "      <td>1</td>\n",
       "      <td>0.050</td>\n",
       "      <td>12500.0</td>\n",
       "    </tr>\n",
       "    <tr>\n",
       "      <th>1</th>\n",
       "      <td>1</td>\n",
       "      <td>2</td>\n",
       "      <td>0.051</td>\n",
       "      <td>12750.0</td>\n",
       "    </tr>\n",
       "    <tr>\n",
       "      <th>2</th>\n",
       "      <td>1</td>\n",
       "      <td>3</td>\n",
       "      <td>0.070</td>\n",
       "      <td>14000.0</td>\n",
       "    </tr>\n",
       "    <tr>\n",
       "      <th>3</th>\n",
       "      <td>1</td>\n",
       "      <td>4</td>\n",
       "      <td>0.030</td>\n",
       "      <td>6000.0</td>\n",
       "    </tr>\n",
       "    <tr>\n",
       "      <th>4</th>\n",
       "      <td>1</td>\n",
       "      <td>5</td>\n",
       "      <td>0.054</td>\n",
       "      <td>10756.0</td>\n",
       "    </tr>\n",
       "  </tbody>\n",
       "</table>\n",
       "</div>"
      ],
      "text/plain": [
       "   const  Months  PFT_Perc      PFT\n",
       "0      1       1     0.050  12500.0\n",
       "1      1       2     0.051  12750.0\n",
       "2      1       3     0.070  14000.0\n",
       "3      1       4     0.030   6000.0\n",
       "4      1       5     0.054  10756.0"
      ]
     },
     "execution_count": 17,
     "metadata": {},
     "output_type": "execute_result"
    }
   ],
   "source": [
    "X.iloc[:5,[0,1,2,3]]"
   ]
  },
  {
   "cell_type": "code",
   "execution_count": 32,
   "metadata": {
    "collapsed": false
   },
   "outputs": [
    {
     "name": "stdout",
     "output_type": "stream",
     "text": [
      "                            OLS Regression Results                            \n",
      "==============================================================================\n",
      "Dep. Variable:             Investment   R-squared:                       0.933\n",
      "Model:                            OLS   Adj. R-squared:                  0.920\n",
      "Method:                 Least Squares   F-statistic:                     69.99\n",
      "Date:                Tue, 07 Nov 2017   Prob (F-statistic):           4.76e-09\n",
      "Time:                        11:38:02   Log-Likelihood:                -229.98\n",
      "No. Observations:                  19   AIC:                             468.0\n",
      "Df Residuals:                      15   BIC:                             471.7\n",
      "Df Model:                           3                                         \n",
      "Covariance Type:            nonrobust                                         \n",
      "==============================================================================\n",
      "                 coef    std err          t      P>|t|      [95.0% Conf. Int.]\n",
      "------------------------------------------------------------------------------\n",
      "const       1.122e+05   6.63e+04      1.691      0.112     -2.92e+04  2.54e+05\n",
      "Months      1.926e+04   3714.485      5.186      0.000      1.13e+04  2.72e+04\n",
      "PFT_Perc   -1.508e+06   1.43e+06     -1.055      0.308     -4.56e+06  1.54e+06\n",
      "PFT            9.2964      2.452      3.792      0.002         4.070    14.522\n",
      "==============================================================================\n",
      "Omnibus:                        1.295   Durbin-Watson:                   0.967\n",
      "Prob(Omnibus):                  0.523   Jarque-Bera (JB):                0.853\n",
      "Skew:                           0.100   Prob(JB):                        0.653\n",
      "Kurtosis:                       1.981   Cond. No.                     2.14e+06\n",
      "==============================================================================\n",
      "\n",
      "Warnings:\n",
      "[1] Standard Errors assume that the covariance matrix of the errors is correctly specified.\n",
      "[2] The condition number is large, 2.14e+06. This might indicate that there are\n",
      "strong multicollinearity or other numerical problems.\n"
     ]
    }
   ],
   "source": [
    "regressor_OLS = sm.OLS(endog=y,exog=X.iloc[:,[0,1,2,3]]).fit()\n",
    "print(regressor_OLS.summary())"
   ]
  },
  {
   "cell_type": "code",
   "execution_count": 19,
   "metadata": {
    "collapsed": false
   },
   "outputs": [
    {
     "name": "stdout",
     "output_type": "stream",
     "text": [
      "                            OLS Regression Results                            \n",
      "==============================================================================\n",
      "Dep. Variable:             Investment   R-squared:                       0.869\n",
      "Model:                            OLS   Adj. R-squared:                  0.853\n",
      "Method:                 Least Squares   F-statistic:                     53.27\n",
      "Date:                Tue, 07 Nov 2017   Prob (F-statistic):           8.45e-08\n",
      "Time:                        11:36:31   Log-Likelihood:                -236.36\n",
      "No. Observations:                  19   AIC:                             478.7\n",
      "Df Residuals:                      16   BIC:                             481.6\n",
      "Df Model:                           2                                         \n",
      "Covariance Type:            nonrobust                                         \n",
      "==============================================================================\n",
      "                 coef    std err          t      P>|t|      [95.0% Conf. Int.]\n",
      "------------------------------------------------------------------------------\n",
      "const       2.448e+04   8.42e+04      0.291      0.775     -1.54e+05  2.03e+05\n",
      "Months      3.017e+04   3185.080      9.472      0.000      2.34e+04  3.69e+04\n",
      "PFT_Perc    1.548e+06    1.6e+06      0.968      0.347     -1.84e+06  4.94e+06\n",
      "==============================================================================\n",
      "Omnibus:                        0.597   Durbin-Watson:                   0.980\n",
      "Prob(Omnibus):                  0.742   Jarque-Bera (JB):                0.623\n",
      "Skew:                           0.136   Prob(JB):                        0.733\n",
      "Kurtosis:                       2.156   Cond. No.                     1.20e+03\n",
      "==============================================================================\n",
      "\n",
      "Warnings:\n",
      "[1] Standard Errors assume that the covariance matrix of the errors is correctly specified.\n",
      "[2] The condition number is large, 1.2e+03. This might indicate that there are\n",
      "strong multicollinearity or other numerical problems.\n"
     ]
    }
   ],
   "source": [
    "regressor_OLS = sm.OLS(endog=y,exog=X.iloc[:,[0,1,2]]).fit()\n",
    "print(regressor_OLS.summary()) "
   ]
  },
  {
   "cell_type": "code",
   "execution_count": 20,
   "metadata": {
    "collapsed": false
   },
   "outputs": [
    {
     "name": "stdout",
     "output_type": "stream",
     "text": [
      "                            OLS Regression Results                            \n",
      "==============================================================================\n",
      "Dep. Variable:             Investment   R-squared:                       0.928\n",
      "Model:                            OLS   Adj. R-squared:                  0.919\n",
      "Method:                 Least Squares   F-statistic:                     103.7\n",
      "Date:                Tue, 07 Nov 2017   Prob (F-statistic):           6.93e-10\n",
      "Time:                        11:36:32   Log-Likelihood:                -230.66\n",
      "No. Observations:                  19   AIC:                             467.3\n",
      "Df Residuals:                      16   BIC:                             470.1\n",
      "Df Model:                           2                                         \n",
      "Covariance Type:            nonrobust                                         \n",
      "==============================================================================\n",
      "                 coef    std err          t      P>|t|      [95.0% Conf. Int.]\n",
      "------------------------------------------------------------------------------\n",
      "const       4.824e+04   2.71e+04      1.779      0.094     -9256.293  1.06e+05\n",
      "Months      2.196e+04   2703.823      8.123      0.000      1.62e+04  2.77e+04\n",
      "PFT            7.8370      2.032      3.857      0.001         3.530    12.144\n",
      "==============================================================================\n",
      "Omnibus:                        1.361   Durbin-Watson:                   1.177\n",
      "Prob(Omnibus):                  0.506   Jarque-Bera (JB):                0.935\n",
      "Skew:                           0.214   Prob(JB):                        0.627\n",
      "Kurtosis:                       2.001   Cond. No.                     4.04e+04\n",
      "==============================================================================\n",
      "\n",
      "Warnings:\n",
      "[1] Standard Errors assume that the covariance matrix of the errors is correctly specified.\n",
      "[2] The condition number is large, 4.04e+04. This might indicate that there are\n",
      "strong multicollinearity or other numerical problems.\n"
     ]
    }
   ],
   "source": [
    "regressor_OLS = sm.OLS(endog=y,exog=X.iloc[:,[0,1,3]]).fit()\n",
    "print(regressor_OLS.summary()) "
   ]
  },
  {
   "cell_type": "code",
   "execution_count": 21,
   "metadata": {
    "collapsed": false
   },
   "outputs": [
    {
     "name": "stdout",
     "output_type": "stream",
     "text": [
      "                            OLS Regression Results                            \n",
      "==============================================================================\n",
      "Dep. Variable:             Investment   R-squared:                       0.814\n",
      "Model:                            OLS   Adj. R-squared:                  0.790\n",
      "Method:                 Least Squares   F-statistic:                     34.96\n",
      "Date:                Tue, 07 Nov 2017   Prob (F-statistic):           1.45e-06\n",
      "Time:                        11:36:34   Log-Likelihood:                -239.73\n",
      "No. Observations:                  19   AIC:                             485.5\n",
      "Df Residuals:                      16   BIC:                             488.3\n",
      "Df Model:                           2                                         \n",
      "Covariance Type:            nonrobust                                         \n",
      "==============================================================================\n",
      "                 coef    std err          t      P>|t|      [95.0% Conf. Int.]\n",
      "------------------------------------------------------------------------------\n",
      "const       3.553e+05   7.59e+04      4.678      0.000      1.94e+05  5.16e+05\n",
      "PFT_Perc   -6.611e+06   1.68e+06     -3.941      0.001     -1.02e+07 -3.05e+06\n",
      "PFT           19.1420      2.511      7.624      0.000        13.820    24.464\n",
      "==============================================================================\n",
      "Omnibus:                       14.352   Durbin-Watson:                   1.568\n",
      "Prob(Omnibus):                  0.001   Jarque-Bera (JB):               13.003\n",
      "Skew:                          -1.499   Prob(JB):                      0.00150\n",
      "Kurtosis:                       5.727   Cond. No.                     1.55e+06\n",
      "==============================================================================\n",
      "\n",
      "Warnings:\n",
      "[1] Standard Errors assume that the covariance matrix of the errors is correctly specified.\n",
      "[2] The condition number is large, 1.55e+06. This might indicate that there are\n",
      "strong multicollinearity or other numerical problems.\n"
     ]
    }
   ],
   "source": [
    "regressor_OLS = sm.OLS(endog=y,exog=X.iloc[:,[0,2,3]]).fit()\n",
    "print(regressor_OLS.summary()) "
   ]
  },
  {
   "cell_type": "code",
   "execution_count": 22,
   "metadata": {
    "collapsed": false
   },
   "outputs": [
    {
     "name": "stdout",
     "output_type": "stream",
     "text": [
      "                            OLS Regression Results                            \n",
      "==============================================================================\n",
      "Dep. Variable:             Investment   R-squared:                       0.633\n",
      "Model:                            OLS   Adj. R-squared:                  0.611\n",
      "Method:                 Least Squares   F-statistic:                     29.32\n",
      "Date:                Tue, 07 Nov 2017   Prob (F-statistic):           4.64e-05\n",
      "Time:                        11:36:35   Log-Likelihood:                -246.18\n",
      "No. Observations:                  19   AIC:                             496.4\n",
      "Df Residuals:                      17   BIC:                             498.2\n",
      "Df Model:                           1                                         \n",
      "Covariance Type:            nonrobust                                         \n",
      "==============================================================================\n",
      "                 coef    std err          t      P>|t|      [95.0% Conf. Int.]\n",
      "------------------------------------------------------------------------------\n",
      "const       1.064e+05   5.74e+04      1.852      0.081     -1.48e+04  2.28e+05\n",
      "PFT           18.4736      3.411      5.415      0.000        11.276    25.671\n",
      "==============================================================================\n",
      "Omnibus:                        1.075   Durbin-Watson:                   1.178\n",
      "Prob(Omnibus):                  0.584   Jarque-Bera (JB):                0.991\n",
      "Skew:                          -0.446   Prob(JB):                        0.609\n",
      "Kurtosis:                       2.324   Cond. No.                     3.89e+04\n",
      "==============================================================================\n",
      "\n",
      "Warnings:\n",
      "[1] Standard Errors assume that the covariance matrix of the errors is correctly specified.\n",
      "[2] The condition number is large, 3.89e+04. This might indicate that there are\n",
      "strong multicollinearity or other numerical problems.\n"
     ]
    }
   ],
   "source": [
    "regressor_OLS = sm.OLS(endog=y,exog=X.iloc[:,[0,3]]).fit() # R$D and Mrkt Spends\n",
    "print(regressor_OLS.summary()) "
   ]
  },
  {
   "cell_type": "code",
   "execution_count": 23,
   "metadata": {
    "collapsed": true
   },
   "outputs": [],
   "source": [
    "# Choosing Best based of Backward Elimination"
   ]
  },
  {
   "cell_type": "code",
   "execution_count": 33,
   "metadata": {
    "collapsed": false
   },
   "outputs": [
    {
     "name": "stdout",
     "output_type": "stream",
     "text": [
      "                            OLS Regression Results                            \n",
      "==============================================================================\n",
      "Dep. Variable:             Investment   R-squared:                       0.928\n",
      "Model:                            OLS   Adj. R-squared:                  0.919\n",
      "Method:                 Least Squares   F-statistic:                     103.7\n",
      "Date:                Tue, 07 Nov 2017   Prob (F-statistic):           6.93e-10\n",
      "Time:                        11:38:10   Log-Likelihood:                -230.66\n",
      "No. Observations:                  19   AIC:                             467.3\n",
      "Df Residuals:                      16   BIC:                             470.1\n",
      "Df Model:                           2                                         \n",
      "Covariance Type:            nonrobust                                         \n",
      "==============================================================================\n",
      "                 coef    std err          t      P>|t|      [95.0% Conf. Int.]\n",
      "------------------------------------------------------------------------------\n",
      "const       4.824e+04   2.71e+04      1.779      0.094     -9256.293  1.06e+05\n",
      "Months      2.196e+04   2703.823      8.123      0.000      1.62e+04  2.77e+04\n",
      "PFT            7.8370      2.032      3.857      0.001         3.530    12.144\n",
      "==============================================================================\n",
      "Omnibus:                        1.361   Durbin-Watson:                   1.177\n",
      "Prob(Omnibus):                  0.506   Jarque-Bera (JB):                0.935\n",
      "Skew:                           0.214   Prob(JB):                        0.627\n",
      "Kurtosis:                       2.001   Cond. No.                     4.04e+04\n",
      "==============================================================================\n",
      "\n",
      "Warnings:\n",
      "[1] Standard Errors assume that the covariance matrix of the errors is correctly specified.\n",
      "[2] The condition number is large, 4.04e+04. This might indicate that there are\n",
      "strong multicollinearity or other numerical problems.\n"
     ]
    }
   ],
   "source": [
    "regressor_OLS = sm.OLS(endog=y,exog=X.iloc[:,[0,1,3]]).fit()\n",
    "print(regressor_OLS.summary()) "
   ]
  },
  {
   "cell_type": "code",
   "execution_count": 38,
   "metadata": {
    "collapsed": false
   },
   "outputs": [
    {
     "data": {
      "text/plain": [
       "array([ 738277.02558721])"
      ]
     },
     "execution_count": 38,
     "metadata": {},
     "output_type": "execute_result"
    }
   ],
   "source": [
    "# We need to pass Intercept always = 1\n",
    "regressor_OLS.predict([[1,20,32000]])"
   ]
  },
  {
   "cell_type": "code",
   "execution_count": 26,
   "metadata": {
    "collapsed": true
   },
   "outputs": [],
   "source": [
    "# Creating dataframe for \n",
    "\n",
    "df_Predict=pd.DataFrame({'Actual':y, 'Predicted':regressor_OLS.fittedvalues},columns = ['Actual','Predicted'])\n",
    "df_Predict['Deviation']=df_Predict['Actual']-df_Predict['Predicted']"
   ]
  },
  {
   "cell_type": "code",
   "execution_count": 27,
   "metadata": {
    "collapsed": false
   },
   "outputs": [
    {
     "data": {
      "text/html": [
       "<div>\n",
       "<table border=\"1\" class=\"dataframe\">\n",
       "  <thead>\n",
       "    <tr style=\"text-align: right;\">\n",
       "      <th></th>\n",
       "      <th>Actual</th>\n",
       "      <th>Predicted</th>\n",
       "      <th>Deviation</th>\n",
       "    </tr>\n",
       "  </thead>\n",
       "  <tbody>\n",
       "    <tr>\n",
       "      <th>5</th>\n",
       "      <td>200000</td>\n",
       "      <td>227039.451</td>\n",
       "      <td>-27039.451</td>\n",
       "    </tr>\n",
       "    <tr>\n",
       "      <th>10</th>\n",
       "      <td>500000</td>\n",
       "      <td>552134.576</td>\n",
       "      <td>-52134.576</td>\n",
       "    </tr>\n",
       "    <tr>\n",
       "      <th>1</th>\n",
       "      <td>250000</td>\n",
       "      <td>192089.061</td>\n",
       "      <td>57910.939</td>\n",
       "    </tr>\n",
       "    <tr>\n",
       "      <th>8</th>\n",
       "      <td>300000</td>\n",
       "      <td>316673.180</td>\n",
       "      <td>-16673.180</td>\n",
       "    </tr>\n",
       "    <tr>\n",
       "      <th>16</th>\n",
       "      <td>600000</td>\n",
       "      <td>609693.399</td>\n",
       "      <td>-9693.399</td>\n",
       "    </tr>\n",
       "    <tr>\n",
       "      <th>15</th>\n",
       "      <td>600000</td>\n",
       "      <td>543059.951</td>\n",
       "      <td>56940.049</td>\n",
       "    </tr>\n",
       "    <tr>\n",
       "      <th>0</th>\n",
       "      <td>250000</td>\n",
       "      <td>168167.272</td>\n",
       "      <td>81832.728</td>\n",
       "    </tr>\n",
       "    <tr>\n",
       "      <th>4</th>\n",
       "      <td>200000</td>\n",
       "      <td>242349.693</td>\n",
       "      <td>-42349.693</td>\n",
       "    </tr>\n",
       "    <tr>\n",
       "      <th>18</th>\n",
       "      <td>700000</td>\n",
       "      <td>685515.071</td>\n",
       "      <td>14484.929</td>\n",
       "    </tr>\n",
       "    <tr>\n",
       "      <th>12</th>\n",
       "      <td>500000</td>\n",
       "      <td>456796.133</td>\n",
       "      <td>43203.867</td>\n",
       "    </tr>\n",
       "  </tbody>\n",
       "</table>\n",
       "</div>"
      ],
      "text/plain": [
       "    Actual   Predicted  Deviation\n",
       "5   200000  227039.451 -27039.451\n",
       "10  500000  552134.576 -52134.576\n",
       "1   250000  192089.061  57910.939\n",
       "8   300000  316673.180 -16673.180\n",
       "16  600000  609693.399  -9693.399\n",
       "15  600000  543059.951  56940.049\n",
       "0   250000  168167.272  81832.728\n",
       "4   200000  242349.693 -42349.693\n",
       "18  700000  685515.071  14484.929\n",
       "12  500000  456796.133  43203.867"
      ]
     },
     "execution_count": 27,
     "metadata": {},
     "output_type": "execute_result"
    }
   ],
   "source": [
    "df_Predict.sample(10)"
   ]
  },
  {
   "cell_type": "code",
   "execution_count": 41,
   "metadata": {
    "collapsed": false
   },
   "outputs": [
    {
     "data": {
      "text/plain": [
       "<seaborn.axisgrid.PairGrid at 0x18efb748>"
      ]
     },
     "execution_count": 41,
     "metadata": {},
     "output_type": "execute_result"
    },
    {
     "data": {
      "image/png": "[encoded data removed]",
      "text/plain": [
       "<matplotlib.figure.Figure at 0x18f7f5c0>"
      ]
     },
     "metadata": {},
     "output_type": "display_data"
    }
   ],
   "source": [
    "sns.pairplot(data=df_Predict)"
   ]
  },
  {
   "cell_type": "code",
   "execution_count": null,
   "metadata": {
    "collapsed": true
   },
   "outputs": [],
   "source": []
  }
 ],
 "metadata": {
  "kernelspec": {
   "display_name": "Python 2",
   "language": "python",
   "name": "python2"
  }
 },
 "nbformat": 4,
 "nbformat_minor": 2
}
